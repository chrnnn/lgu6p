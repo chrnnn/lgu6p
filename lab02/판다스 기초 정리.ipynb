{
 "cells": [
  {
   "cell_type": "code",
   "execution_count": 1,
   "id": "3998a728-d394-4e03-9989-f59549876189",
   "metadata": {},
   "outputs": [
    {
     "data": {
      "text/plain": [
       "0    1\n",
       "1    2\n",
       "2    3\n",
       "3    4\n",
       "4    5\n",
       "dtype: int64"
      ]
     },
     "execution_count": 1,
     "metadata": {},
     "output_type": "execute_result"
    }
   ],
   "source": [
    "import pandas as pd\n",
    "pd.Series([1,2,3,4,5])"
   ]
  },
  {
   "cell_type": "code",
   "execution_count": 3,
   "id": "81a1cfed-1bd4-4308-89f9-eee289c9d359",
   "metadata": {},
   "outputs": [
    {
     "data": {
      "text/plain": [
       "pandas.core.series.Series"
      ]
     },
     "execution_count": 3,
     "metadata": {},
     "output_type": "execute_result"
    }
   ],
   "source": [
    "pd_s = pd.Series([1,2,3,4,5])\n",
    "type(pd_s)"
   ]
  },
  {
   "cell_type": "code",
   "execution_count": 5,
   "id": "79f4bcc9-2bf2-482a-9db0-9f285e2bd36b",
   "metadata": {},
   "outputs": [
    {
     "name": "stdout",
     "output_type": "stream",
     "text": [
      "0    1\n",
      "1    2\n",
      "2    3\n",
      "3    4\n",
      "4    5\n",
      "dtype: int64\n"
     ]
    },
    {
     "data": {
      "text/plain": [
       "pandas.core.series.Series"
      ]
     },
     "execution_count": 5,
     "metadata": {},
     "output_type": "execute_result"
    }
   ],
   "source": [
    "pd_l = [1,2,3,4,5]\n",
    "pd_s1 = pd.Series(pd_l)\n",
    "print(pd_s1)\n",
    "type(pd_s1)"
   ]
  },
  {
   "cell_type": "markdown",
   "id": "d795fdf6-b656-47aa-b9f5-74a03652b858",
   "metadata": {},
   "source": [
    "# 데이터프레임"
   ]
  },
  {
   "cell_type": "markdown",
   "id": "b9e160bf-3c5f-4d68-854f-9a958ab8fdcb",
   "metadata": {},
   "source": [
    "## 1. 데이터프레임 생성"
   ]
  },
  {
   "cell_type": "markdown",
   "id": "ae983d89-c972-49f7-a308-23fdf0485e78",
   "metadata": {},
   "source": [
    "### - 1차원 리스트를 데이터프레임으로 변환"
   ]
  },
  {
   "cell_type": "code",
   "execution_count": 6,
   "id": "ec52143f-e1e7-4b3a-a800-cdd2cb1decb6",
   "metadata": {},
   "outputs": [
    {
     "data": {
      "text/html": [
       "<div>\n",
       "<style scoped>\n",
       "    .dataframe tbody tr th:only-of-type {\n",
       "        vertical-align: middle;\n",
       "    }\n",
       "\n",
       "    .dataframe tbody tr th {\n",
       "        vertical-align: top;\n",
       "    }\n",
       "\n",
       "    .dataframe thead th {\n",
       "        text-align: right;\n",
       "    }\n",
       "</style>\n",
       "<table border=\"1\" class=\"dataframe\">\n",
       "  <thead>\n",
       "    <tr style=\"text-align: right;\">\n",
       "      <th></th>\n",
       "      <th>0</th>\n",
       "    </tr>\n",
       "  </thead>\n",
       "  <tbody>\n",
       "    <tr>\n",
       "      <th>0</th>\n",
       "      <td>1</td>\n",
       "    </tr>\n",
       "    <tr>\n",
       "      <th>1</th>\n",
       "      <td>2</td>\n",
       "    </tr>\n",
       "    <tr>\n",
       "      <th>2</th>\n",
       "      <td>3</td>\n",
       "    </tr>\n",
       "    <tr>\n",
       "      <th>3</th>\n",
       "      <td>4</td>\n",
       "    </tr>\n",
       "    <tr>\n",
       "      <th>4</th>\n",
       "      <td>5</td>\n",
       "    </tr>\n",
       "  </tbody>\n",
       "</table>\n",
       "</div>"
      ],
      "text/plain": [
       "   0\n",
       "0  1\n",
       "1  2\n",
       "2  3\n",
       "3  4\n",
       "4  5"
      ]
     },
     "execution_count": 6,
     "metadata": {},
     "output_type": "execute_result"
    }
   ],
   "source": [
    "pd_s2 = pd.DataFrame(pd_l)\n",
    "pd_s2"
   ]
  },
  {
   "cell_type": "code",
   "execution_count": 9,
   "id": "4cde7e44-925a-490c-b33f-86ddee96dc97",
   "metadata": {},
   "outputs": [
    {
     "data": {
      "text/html": [
       "<div>\n",
       "<style scoped>\n",
       "    .dataframe tbody tr th:only-of-type {\n",
       "        vertical-align: middle;\n",
       "    }\n",
       "\n",
       "    .dataframe tbody tr th {\n",
       "        vertical-align: top;\n",
       "    }\n",
       "\n",
       "    .dataframe thead th {\n",
       "        text-align: right;\n",
       "    }\n",
       "</style>\n",
       "<table border=\"1\" class=\"dataframe\">\n",
       "  <thead>\n",
       "    <tr style=\"text-align: right;\">\n",
       "      <th></th>\n",
       "      <th>0</th>\n",
       "      <th>1열</th>\n",
       "    </tr>\n",
       "  </thead>\n",
       "  <tbody>\n",
       "    <tr>\n",
       "      <th>0</th>\n",
       "      <td>1</td>\n",
       "      <td>a</td>\n",
       "    </tr>\n",
       "    <tr>\n",
       "      <th>1</th>\n",
       "      <td>2</td>\n",
       "      <td>b</td>\n",
       "    </tr>\n",
       "    <tr>\n",
       "      <th>2</th>\n",
       "      <td>3</td>\n",
       "      <td>c</td>\n",
       "    </tr>\n",
       "    <tr>\n",
       "      <th>3</th>\n",
       "      <td>4</td>\n",
       "      <td>d</td>\n",
       "    </tr>\n",
       "    <tr>\n",
       "      <th>4</th>\n",
       "      <td>5</td>\n",
       "      <td>e</td>\n",
       "    </tr>\n",
       "  </tbody>\n",
       "</table>\n",
       "</div>"
      ],
      "text/plain": [
       "   0 1열\n",
       "0  1  a\n",
       "1  2  b\n",
       "2  3  c\n",
       "3  4  d\n",
       "4  5  e"
      ]
     },
     "execution_count": 9,
     "metadata": {},
     "output_type": "execute_result"
    }
   ],
   "source": [
    "# DF에 열 이름 추가\n",
    "pd_s2['1열'] = ['a','b','c','d','e']\n",
    "pd_s2"
   ]
  },
  {
   "cell_type": "code",
   "execution_count": 10,
   "id": "df353cda-e0b4-4027-ba3b-1ce5824ac3bb",
   "metadata": {
    "scrolled": true
   },
   "outputs": [
    {
     "data": {
      "text/plain": [
       "Index([0, '1열'], dtype='object')"
      ]
     },
     "execution_count": 10,
     "metadata": {},
     "output_type": "execute_result"
    }
   ],
   "source": [
    "# DF 컬럼 확인\n",
    "pd_s2.columns"
   ]
  },
  {
   "cell_type": "code",
   "execution_count": 12,
   "id": "db849ef9-bb03-4c38-bb38-f82ff799ecde",
   "metadata": {
    "scrolled": true
   },
   "outputs": [
    {
     "data": {
      "text/html": [
       "<div>\n",
       "<style scoped>\n",
       "    .dataframe tbody tr th:only-of-type {\n",
       "        vertical-align: middle;\n",
       "    }\n",
       "\n",
       "    .dataframe tbody tr th {\n",
       "        vertical-align: top;\n",
       "    }\n",
       "\n",
       "    .dataframe thead th {\n",
       "        text-align: right;\n",
       "    }\n",
       "</style>\n",
       "<table border=\"1\" class=\"dataframe\">\n",
       "  <thead>\n",
       "    <tr style=\"text-align: right;\">\n",
       "      <th></th>\n",
       "      <th>0열</th>\n",
       "      <th>1열</th>\n",
       "    </tr>\n",
       "  </thead>\n",
       "  <tbody>\n",
       "    <tr>\n",
       "      <th>0</th>\n",
       "      <td>1</td>\n",
       "      <td>a</td>\n",
       "    </tr>\n",
       "    <tr>\n",
       "      <th>1</th>\n",
       "      <td>2</td>\n",
       "      <td>b</td>\n",
       "    </tr>\n",
       "    <tr>\n",
       "      <th>2</th>\n",
       "      <td>3</td>\n",
       "      <td>c</td>\n",
       "    </tr>\n",
       "    <tr>\n",
       "      <th>3</th>\n",
       "      <td>4</td>\n",
       "      <td>d</td>\n",
       "    </tr>\n",
       "    <tr>\n",
       "      <th>4</th>\n",
       "      <td>5</td>\n",
       "      <td>e</td>\n",
       "    </tr>\n",
       "  </tbody>\n",
       "</table>\n",
       "</div>"
      ],
      "text/plain": [
       "   0열 1열\n",
       "0   1  a\n",
       "1   2  b\n",
       "2   3  c\n",
       "3   4  d\n",
       "4   5  e"
      ]
     },
     "execution_count": 12,
     "metadata": {},
     "output_type": "execute_result"
    }
   ],
   "source": [
    "# DF 열 이름 변경\n",
    "pd_s3 = pd_s2.rename(columns = {0:'0열'})\n",
    "pd_s3"
   ]
  },
  {
   "cell_type": "markdown",
   "id": "71983b52-a46c-4bac-91bd-aadc537778cb",
   "metadata": {},
   "source": [
    "임의의 데이터프레임 생성할 때 딕셔너리 활용하면 굿!\n",
    "리스트로 하면 항상 인덱스 값이 0, 1...이기 때문에 ~"
   ]
  },
  {
   "cell_type": "code",
   "execution_count": 13,
   "id": "9a87b05b-9c6e-4ef5-a8ce-261e77ec4da9",
   "metadata": {},
   "outputs": [
    {
     "data": {
      "text/html": [
       "<div>\n",
       "<style scoped>\n",
       "    .dataframe tbody tr th:only-of-type {\n",
       "        vertical-align: middle;\n",
       "    }\n",
       "\n",
       "    .dataframe tbody tr th {\n",
       "        vertical-align: top;\n",
       "    }\n",
       "\n",
       "    .dataframe thead th {\n",
       "        text-align: right;\n",
       "    }\n",
       "</style>\n",
       "<table border=\"1\" class=\"dataframe\">\n",
       "  <thead>\n",
       "    <tr style=\"text-align: right;\">\n",
       "      <th></th>\n",
       "      <th>A</th>\n",
       "      <th>B</th>\n",
       "    </tr>\n",
       "  </thead>\n",
       "  <tbody>\n",
       "    <tr>\n",
       "      <th>0</th>\n",
       "      <td>1</td>\n",
       "      <td>A</td>\n",
       "    </tr>\n",
       "    <tr>\n",
       "      <th>1</th>\n",
       "      <td>2</td>\n",
       "      <td>B</td>\n",
       "    </tr>\n",
       "    <tr>\n",
       "      <th>2</th>\n",
       "      <td>3</td>\n",
       "      <td>C</td>\n",
       "    </tr>\n",
       "  </tbody>\n",
       "</table>\n",
       "</div>"
      ],
      "text/plain": [
       "   A  B\n",
       "0  1  A\n",
       "1  2  B\n",
       "2  3  C"
      ]
     },
     "execution_count": 13,
     "metadata": {},
     "output_type": "execute_result"
    }
   ],
   "source": [
    "temp_df = pd.DataFrame({\n",
    "    'A' : [1,2,3],\n",
    "    'B' : ['A', 'B', 'C']\n",
    "})\n",
    "temp_df"
   ]
  },
  {
   "cell_type": "markdown",
   "id": "8641273a-0992-4d19-9457-54018444afc2",
   "metadata": {},
   "source": [
    "### - 2차원 리스트를 데이터프레임으로 변환"
   ]
  },
  {
   "cell_type": "code",
   "execution_count": 14,
   "id": "ebb77449-4ea0-4e4f-aa1b-873c121bbb62",
   "metadata": {},
   "outputs": [
    {
     "name": "stdout",
     "output_type": "stream",
     "text": [
      "<class 'list'>\n"
     ]
    },
    {
     "data": {
      "text/plain": [
       "[['정약용', 70, 80, 100], ['이순신', 100, 80, 70], ['이율곡', 90, 95, 90]]"
      ]
     },
     "execution_count": 14,
     "metadata": {},
     "output_type": "execute_result"
    }
   ],
   "source": [
    "score=[\n",
    " ['정약용', 70, 80, 100],\n",
    " ['이순신', 100, 80, 70],\n",
    " ['이율곡', 90, 95, 90]\n",
    "]\n",
    "print(type(score))\n",
    "score"
   ]
  },
  {
   "cell_type": "markdown",
   "id": "0cf8836f-b4a7-4d2e-ac71-efcf47b7f860",
   "metadata": {},
   "source": [
    "## 2. 데이터프레임 사용"
   ]
  },
  {
   "cell_type": "code",
   "execution_count": null,
   "id": "9e2b41f8-fe57-47ef-a6c7-4aeea996284a",
   "metadata": {},
   "outputs": [],
   "source": []
  },
  {
   "cell_type": "code",
   "execution_count": null,
   "id": "2b8d8c9e-b316-4ba1-9275-3d1591233c9d",
   "metadata": {},
   "outputs": [],
   "source": []
  },
  {
   "cell_type": "markdown",
   "id": "d484fb5f-79a7-488b-91bb-26bc460af9be",
   "metadata": {},
   "source": [
    "## 3. 유용한 데이터프레임 조작 기능"
   ]
  },
  {
   "cell_type": "code",
   "execution_count": null,
   "id": "d07f7cb3-1548-4fee-b85a-b73f22fd3ce9",
   "metadata": {},
   "outputs": [],
   "source": []
  },
  {
   "cell_type": "code",
   "execution_count": null,
   "id": "2d37a793-ef28-42c7-bb6d-df499055c25a",
   "metadata": {},
   "outputs": [],
   "source": []
  },
  {
   "cell_type": "code",
   "execution_count": null,
   "id": "94304522-547d-4bbe-899d-6979d2152d0b",
   "metadata": {},
   "outputs": [],
   "source": []
  },
  {
   "cell_type": "markdown",
   "id": "1468adbb-a249-4a0c-ba1b-36921833f8c5",
   "metadata": {},
   "source": [
    "## 데이터 가져오기"
   ]
  },
  {
   "cell_type": "markdown",
   "id": "48aa2cba-72fc-479e-9502-1fb089e00b28",
   "metadata": {},
   "source": [
    "### loc : 인덱스 이름 기준으로 데이터 가져오기\n",
    "- df의 인덱스 이름을 기준으로 원하는 만큼의 행 데이터를 가져올 수 있음\n",
    "- 데이터프레임.loc[시작 인덱스 이름 : 종료 인덱스이름 : 증가값]"
   ]
  },
  {
   "cell_type": "code",
   "execution_count": null,
   "id": "94cfdd8d-52dd-4732-bc79-787d4426b89f",
   "metadata": {},
   "outputs": [],
   "source": [
    "# 인덱스 이름을 사용한 것이므로 5번까지 표시됨\n",
    "titanic_df.loc[0:5]"
   ]
  },
  {
   "cell_type": "code",
   "execution_count": null,
   "id": "d5464a5b-7e02-4929-83bc-416be33ead0a",
   "metadata": {},
   "outputs": [],
   "source": []
  },
  {
   "cell_type": "code",
   "execution_count": null,
   "id": "f6b1ca6c-d4df-4605-bd06-e6bf6b016ad8",
   "metadata": {},
   "outputs": [],
   "source": []
  },
  {
   "cell_type": "code",
   "execution_count": null,
   "id": "28f80dfa-7c4d-41a2-93c1-50c863ab266c",
   "metadata": {},
   "outputs": [],
   "source": []
  },
  {
   "cell_type": "code",
   "execution_count": null,
   "id": "9a04c3e3-84aa-4e35-8389-7ba718c45f36",
   "metadata": {},
   "outputs": [],
   "source": []
  },
  {
   "cell_type": "code",
   "execution_count": null,
   "id": "c9a8cb91-ab84-484f-9cd8-bbf65a4cf641",
   "metadata": {},
   "outputs": [],
   "source": []
  },
  {
   "cell_type": "markdown",
   "id": "23751f23-062a-4edc-be64-cec8a6d279d6",
   "metadata": {},
   "source": [
    "# 그룹으로 묶기"
   ]
  },
  {
   "cell_type": "code",
   "execution_count": null,
   "id": "308710dd-6829-4f5d-9014-3ceb0418ba82",
   "metadata": {},
   "outputs": [],
   "source": []
  },
  {
   "cell_type": "code",
   "execution_count": null,
   "id": "ae308d20-b3e6-43b2-94ad-f1afdb400f76",
   "metadata": {},
   "outputs": [],
   "source": []
  },
  {
   "cell_type": "code",
   "execution_count": null,
   "id": "0e77abd4-a0cf-487f-b494-b0f94dee9d06",
   "metadata": {},
   "outputs": [],
   "source": []
  },
  {
   "cell_type": "code",
   "execution_count": null,
   "id": "c24ab5f6-f4ce-4ea6-8471-50bbdd2b92f7",
   "metadata": {},
   "outputs": [],
   "source": []
  },
  {
   "cell_type": "code",
   "execution_count": null,
   "id": "15413040-4a36-469f-8eb5-f5d08447b3d1",
   "metadata": {},
   "outputs": [],
   "source": []
  },
  {
   "cell_type": "code",
   "execution_count": null,
   "id": "2c7c3c2b-a704-420d-b5ac-7339c84b6ce9",
   "metadata": {},
   "outputs": [],
   "source": []
  },
  {
   "cell_type": "code",
   "execution_count": null,
   "id": "991ca3e7-c23e-4eee-be2f-235707ddccf7",
   "metadata": {},
   "outputs": [],
   "source": []
  },
  {
   "cell_type": "code",
   "execution_count": null,
   "id": "83a943c9-6e56-45f7-b1b5-212124869a2e",
   "metadata": {},
   "outputs": [],
   "source": []
  },
  {
   "cell_type": "code",
   "execution_count": null,
   "id": "3e171dc1-7e1f-4574-8148-c110b5ed3a04",
   "metadata": {},
   "outputs": [],
   "source": []
  },
  {
   "cell_type": "code",
   "execution_count": null,
   "id": "b18a38f1-08db-457a-81b2-3a5a1ca57469",
   "metadata": {},
   "outputs": [],
   "source": []
  },
  {
   "cell_type": "code",
   "execution_count": null,
   "id": "b847dd78-7763-499e-ba75-bce55e6348c3",
   "metadata": {},
   "outputs": [],
   "source": []
  },
  {
   "cell_type": "code",
   "execution_count": null,
   "id": "57d734dc-de91-42b4-8e5a-93aded2eb69b",
   "metadata": {},
   "outputs": [],
   "source": []
  },
  {
   "cell_type": "code",
   "execution_count": null,
   "id": "ad5322fe-fd5f-4f9d-b8e7-88cbdd0d3b48",
   "metadata": {},
   "outputs": [],
   "source": []
  },
  {
   "cell_type": "code",
   "execution_count": null,
   "id": "dde53bd0-d8e5-415a-8927-9743e7e365f5",
   "metadata": {},
   "outputs": [],
   "source": []
  }
 ],
 "metadata": {
  "kernelspec": {
   "display_name": "Python 3 (ipykernel)",
   "language": "python",
   "name": "python3"
  },
  "language_info": {
   "codemirror_mode": {
    "name": "ipython",
    "version": 3
   },
   "file_extension": ".py",
   "mimetype": "text/x-python",
   "name": "python",
   "nbconvert_exporter": "python",
   "pygments_lexer": "ipython3",
   "version": "3.13.2"
  }
 },
 "nbformat": 4,
 "nbformat_minor": 5
}
